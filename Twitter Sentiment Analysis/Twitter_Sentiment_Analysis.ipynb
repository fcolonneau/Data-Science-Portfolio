{
  "nbformat": 4,
  "nbformat_minor": 0,
  "metadata": {
    "colab": {
      "provenance": []
    },
    "kernelspec": {
      "name": "python3",
      "display_name": "Python 3"
    },
    "language_info": {
      "name": "python"
    }
  },
  "cells": [
    {
      "cell_type": "markdown",
      "source": [
        "# Twitter Sentiment Analysis\n"
      ],
      "metadata": {
        "id": "x2UNTz34cEOK"
      }
    },
    {
      "cell_type": "markdown",
      "source": [
        "Dans ce notebook, je présente une modélisation simple de l'analyse du sentiment d'une base de données de tweets liés à des entreprises spécifiques. Cette étude est structurée comme suit :\n",
        "\n",
        "1 - Exploration initiale des données\\\n",
        "2 - Nettoyage des données\\\n",
        "3 - Modèle de Random Forest\\\n",
        "4 - Modèle de régression logistique\\\n",
        "5 - Modèle de SVM"
      ],
      "metadata": {
        "id": "dNKSysJycZXD"
      }
    },
    {
      "cell_type": "code",
      "execution_count": 9,
      "metadata": {
        "id": "-VeChI-pYoNk"
      },
      "outputs": [],
      "source": [
        "import pandas as pd\n",
        "import numpy as np\n",
        "import matplotlib.pyplot as plt\n",
        "from wordcloud import WordCloud\n",
        "from nltk.corpus import stopwords\n",
        "import seaborn as sns"
      ]
    },
    {
      "cell_type": "code",
      "source": [
        "column_names=['Tweet_ID','Entity','Sentiment','Tweet_content']\n",
        "\n",
        "train=pd.read_csv(\"twitter_training.csv\", sep=',',names=column_names)"
      ],
      "metadata": {
        "id": "_YhoCP1Ad5B4"
      },
      "execution_count": 10,
      "outputs": []
    },
    {
      "cell_type": "markdown",
      "source": [
        "# Exploratory data analysis"
      ],
      "metadata": {
        "id": "YDFrwxPnlp5a"
      }
    },
    {
      "cell_type": "markdown",
      "source": [
        "## Sentiment"
      ],
      "metadata": {
        "id": "b2sUBnVgrkOD"
      }
    },
    {
      "cell_type": "code",
      "source": [
        "print(\"Nombre d'entités unique : \"+str(len(train.Entity.unique())))\n",
        "entities = train.Entity.value_counts().to_frame()"
      ],
      "metadata": {
        "colab": {
          "base_uri": "https://localhost:8080/"
        },
        "id": "_c6tDZ4bO9Si",
        "outputId": "7b15a90d-5280-4c35-b9fe-3447308dd211"
      },
      "execution_count": 11,
      "outputs": [
        {
          "output_type": "stream",
          "name": "stdout",
          "text": [
            "Nombre d'entités unique : 32\n"
          ]
        }
      ]
    },
    {
      "cell_type": "code",
      "source": [
        "sentiment = train.Sentiment.value_counts().to_frame().T\n",
        "sentiment"
      ],
      "metadata": {
        "colab": {
          "base_uri": "https://localhost:8080/",
          "height": 81
        },
        "id": "apQrae6tSFIp",
        "outputId": "ef9685c6-36f4-4cf4-9eb1-2088f7049596"
      },
      "execution_count": 12,
      "outputs": [
        {
          "output_type": "execute_result",
          "data": {
            "text/plain": [
              "           Negative  Positive  Neutral  Irrelevant\n",
              "Sentiment     22542     20832    18318       12990"
            ],
            "text/html": [
              "\n",
              "  <div id=\"df-c6cffb62-4977-411b-bc49-ce56c087da17\" class=\"colab-df-container\">\n",
              "    <div>\n",
              "<style scoped>\n",
              "    .dataframe tbody tr th:only-of-type {\n",
              "        vertical-align: middle;\n",
              "    }\n",
              "\n",
              "    .dataframe tbody tr th {\n",
              "        vertical-align: top;\n",
              "    }\n",
              "\n",
              "    .dataframe thead th {\n",
              "        text-align: right;\n",
              "    }\n",
              "</style>\n",
              "<table border=\"1\" class=\"dataframe\">\n",
              "  <thead>\n",
              "    <tr style=\"text-align: right;\">\n",
              "      <th></th>\n",
              "      <th>Negative</th>\n",
              "      <th>Positive</th>\n",
              "      <th>Neutral</th>\n",
              "      <th>Irrelevant</th>\n",
              "    </tr>\n",
              "  </thead>\n",
              "  <tbody>\n",
              "    <tr>\n",
              "      <th>Sentiment</th>\n",
              "      <td>22542</td>\n",
              "      <td>20832</td>\n",
              "      <td>18318</td>\n",
              "      <td>12990</td>\n",
              "    </tr>\n",
              "  </tbody>\n",
              "</table>\n",
              "</div>\n",
              "    <div class=\"colab-df-buttons\">\n",
              "\n",
              "  <div class=\"colab-df-container\">\n",
              "    <button class=\"colab-df-convert\" onclick=\"convertToInteractive('df-c6cffb62-4977-411b-bc49-ce56c087da17')\"\n",
              "            title=\"Convert this dataframe to an interactive table.\"\n",
              "            style=\"display:none;\">\n",
              "\n",
              "  <svg xmlns=\"http://www.w3.org/2000/svg\" height=\"24px\" viewBox=\"0 -960 960 960\">\n",
              "    <path d=\"M120-120v-720h720v720H120Zm60-500h600v-160H180v160Zm220 220h160v-160H400v160Zm0 220h160v-160H400v160ZM180-400h160v-160H180v160Zm440 0h160v-160H620v160ZM180-180h160v-160H180v160Zm440 0h160v-160H620v160Z\"/>\n",
              "  </svg>\n",
              "    </button>\n",
              "\n",
              "  <style>\n",
              "    .colab-df-container {\n",
              "      display:flex;\n",
              "      gap: 12px;\n",
              "    }\n",
              "\n",
              "    .colab-df-convert {\n",
              "      background-color: #E8F0FE;\n",
              "      border: none;\n",
              "      border-radius: 50%;\n",
              "      cursor: pointer;\n",
              "      display: none;\n",
              "      fill: #1967D2;\n",
              "      height: 32px;\n",
              "      padding: 0 0 0 0;\n",
              "      width: 32px;\n",
              "    }\n",
              "\n",
              "    .colab-df-convert:hover {\n",
              "      background-color: #E2EBFA;\n",
              "      box-shadow: 0px 1px 2px rgba(60, 64, 67, 0.3), 0px 1px 3px 1px rgba(60, 64, 67, 0.15);\n",
              "      fill: #174EA6;\n",
              "    }\n",
              "\n",
              "    .colab-df-buttons div {\n",
              "      margin-bottom: 4px;\n",
              "    }\n",
              "\n",
              "    [theme=dark] .colab-df-convert {\n",
              "      background-color: #3B4455;\n",
              "      fill: #D2E3FC;\n",
              "    }\n",
              "\n",
              "    [theme=dark] .colab-df-convert:hover {\n",
              "      background-color: #434B5C;\n",
              "      box-shadow: 0px 1px 3px 1px rgba(0, 0, 0, 0.15);\n",
              "      filter: drop-shadow(0px 1px 2px rgba(0, 0, 0, 0.3));\n",
              "      fill: #FFFFFF;\n",
              "    }\n",
              "  </style>\n",
              "\n",
              "    <script>\n",
              "      const buttonEl =\n",
              "        document.querySelector('#df-c6cffb62-4977-411b-bc49-ce56c087da17 button.colab-df-convert');\n",
              "      buttonEl.style.display =\n",
              "        google.colab.kernel.accessAllowed ? 'block' : 'none';\n",
              "\n",
              "      async function convertToInteractive(key) {\n",
              "        const element = document.querySelector('#df-c6cffb62-4977-411b-bc49-ce56c087da17');\n",
              "        const dataTable =\n",
              "          await google.colab.kernel.invokeFunction('convertToInteractive',\n",
              "                                                    [key], {});\n",
              "        if (!dataTable) return;\n",
              "\n",
              "        const docLinkHtml = 'Like what you see? Visit the ' +\n",
              "          '<a target=\"_blank\" href=https://colab.research.google.com/notebooks/data_table.ipynb>data table notebook</a>'\n",
              "          + ' to learn more about interactive tables.';\n",
              "        element.innerHTML = '';\n",
              "        dataTable['output_type'] = 'display_data';\n",
              "        await google.colab.output.renderOutput(dataTable, element);\n",
              "        const docLink = document.createElement('div');\n",
              "        docLink.innerHTML = docLinkHtml;\n",
              "        element.appendChild(docLink);\n",
              "      }\n",
              "    </script>\n",
              "  </div>\n",
              "\n",
              "    </div>\n",
              "  </div>\n"
            ],
            "application/vnd.google.colaboratory.intrinsic+json": {
              "type": "dataframe",
              "variable_name": "sentiment",
              "summary": "{\n  \"name\": \"sentiment\",\n  \"rows\": 1,\n  \"fields\": [\n    {\n      \"column\": \"Negative\",\n      \"properties\": {\n        \"dtype\": \"number\",\n        \"std\": null,\n        \"min\": 22542,\n        \"max\": 22542,\n        \"num_unique_values\": 1,\n        \"samples\": [\n          22542\n        ],\n        \"semantic_type\": \"\",\n        \"description\": \"\"\n      }\n    },\n    {\n      \"column\": \"Positive\",\n      \"properties\": {\n        \"dtype\": \"number\",\n        \"std\": null,\n        \"min\": 20832,\n        \"max\": 20832,\n        \"num_unique_values\": 1,\n        \"samples\": [\n          20832\n        ],\n        \"semantic_type\": \"\",\n        \"description\": \"\"\n      }\n    },\n    {\n      \"column\": \"Neutral\",\n      \"properties\": {\n        \"dtype\": \"number\",\n        \"std\": null,\n        \"min\": 18318,\n        \"max\": 18318,\n        \"num_unique_values\": 1,\n        \"samples\": [\n          18318\n        ],\n        \"semantic_type\": \"\",\n        \"description\": \"\"\n      }\n    },\n    {\n      \"column\": \"Irrelevant\",\n      \"properties\": {\n        \"dtype\": \"number\",\n        \"std\": null,\n        \"min\": 12990,\n        \"max\": 12990,\n        \"num_unique_values\": 1,\n        \"samples\": [\n          12990\n        ],\n        \"semantic_type\": \"\",\n        \"description\": \"\"\n      }\n    }\n  ]\n}"
            }
          },
          "metadata": {},
          "execution_count": 12
        }
      ]
    },
    {
      "cell_type": "code",
      "source": [
        "ax = sns.countplot(x='Sentiment', data=train, palette='muted')\n",
        "ax.bar_label(ax.containers[0], label_type='edge')\n",
        "plt.show()"
      ],
      "metadata": {
        "colab": {
          "base_uri": "https://localhost:8080/",
          "height": 556
        },
        "id": "we4odCD6QsbZ",
        "outputId": "7bee9925-61c8-423d-f152-dac6b8977c4f"
      },
      "execution_count": 13,
      "outputs": [
        {
          "output_type": "stream",
          "name": "stderr",
          "text": [
            "<ipython-input-13-9860849a0998>:1: FutureWarning: \n",
            "\n",
            "Passing `palette` without assigning `hue` is deprecated and will be removed in v0.14.0. Assign the `x` variable to `hue` and set `legend=False` for the same effect.\n",
            "\n",
            "  ax = sns.countplot(x='Sentiment', data=train, palette='muted')\n"
          ]
        },
        {
          "output_type": "display_data",
          "data": {
            "text/plain": [
              "<Figure size 640x480 with 1 Axes>"
            ],
            "image/png": "[encoded data removed]"
          },
          "metadata": {}
        }
      ]
    },
    {
      "cell_type": "code",
      "source": [
        "pd.crosstab(train.Sentiment , train.Entity).T.style.background_gradient( subset=['Negative'],cmap='Reds')\\\n",
        ".background_gradient(subset=['Positive'] , cmap='Greens')\\\n",
        ".background_gradient(subset=['Irrelevant'] , cmap='Purples')\\\n",
        ".background_gradient(subset=['Neutral'] , cmap='Greys')"
      ],
      "metadata": {
        "colab": {
          "base_uri": "https://localhost:8080/",
          "height": 1000
        },
        "id": "0GlkSwHTSx6x",
        "outputId": "d4a5ad50-3ed7-4109-d1fe-f3431ed8eea0"
      },
      "execution_count": 14,
      "outputs": [
        {
          "output_type": "execute_result",
          "data": {
            "text/plain": [
              "<pandas.io.formats.style.Styler at 0x7c7622aebfa0>"
            ],
            "text/html": [
              "<style type=\"text/css\">\n",
              "#T_ab290_row0_col0, #T_ab290_row1_col0, #T_ab290_row31_col0 {\n",
              "  background-color: #e4e3f0;\n",
              "  color: #000000;\n",
              "}\n",
              "#T_ab290_row0_col1, #T_ab290_row7_col1 {\n",
              "  background-color: #fdccb8;\n",
              "  color: #000000;\n",
              "}\n",
              "#T_ab290_row0_col2 {\n",
              "  background-color: #000000;\n",
              "  color: #f1f1f1;\n",
              "}\n",
              "#T_ab290_row0_col3 {\n",
              "  background-color: #e8f6e3;\n",
              "  color: #000000;\n",
              "}\n",
              "#T_ab290_row1_col1 {\n",
              "  background-color: #fdc7b2;\n",
              "  color: #000000;\n",
              "}\n",
              "#T_ab290_row1_col2 {\n",
              "  background-color: #545454;\n",
              "  color: #f1f1f1;\n",
              "}\n",
              "#T_ab290_row1_col3 {\n",
              "  background-color: #a3da9d;\n",
              "  color: #000000;\n",
              "}\n",
              "#T_ab290_row2_col0 {\n",
              "  background-color: #d6d6e9;\n",
              "  color: #000000;\n",
              "}\n",
              "#T_ab290_row2_col1, #T_ab290_row30_col1 {\n",
              "  background-color: #ffece4;\n",
              "  color: #000000;\n",
              "}\n",
              "#T_ab290_row2_col2 {\n",
              "  background-color: #f9f9f9;\n",
              "  color: #000000;\n",
              "}\n",
              "#T_ab290_row2_col3 {\n",
              "  background-color: #00441b;\n",
              "  color: #f1f1f1;\n",
              "}\n",
              "#T_ab290_row3_col0 {\n",
              "  background-color: #3f007d;\n",
              "  color: #f1f1f1;\n",
              "}\n",
              "#T_ab290_row3_col1 {\n",
              "  background-color: #fee1d4;\n",
              "  color: #000000;\n",
              "}\n",
              "#T_ab290_row3_col2, #T_ab290_row7_col2 {\n",
              "  background-color: #dddddd;\n",
              "  color: #000000;\n",
              "}\n",
              "#T_ab290_row3_col3 {\n",
              "  background-color: #afdfa8;\n",
              "  color: #000000;\n",
              "}\n",
              "#T_ab290_row4_col0 {\n",
              "  background-color: #dcdcec;\n",
              "  color: #000000;\n",
              "}\n",
              "#T_ab290_row4_col1 {\n",
              "  background-color: #fee7dc;\n",
              "  color: #000000;\n",
              "}\n",
              "#T_ab290_row4_col2 {\n",
              "  background-color: #a9a9a9;\n",
              "  color: #f1f1f1;\n",
              "}\n",
              "#T_ab290_row4_col3 {\n",
              "  background-color: #37a055;\n",
              "  color: #f1f1f1;\n",
              "}\n",
              "#T_ab290_row5_col0 {\n",
              "  background-color: #7567af;\n",
              "  color: #f1f1f1;\n",
              "}\n",
              "#T_ab290_row5_col1 {\n",
              "  background-color: #fff0e9;\n",
              "  color: #000000;\n",
              "}\n",
              "#T_ab290_row5_col2 {\n",
              "  background-color: #b6b6b6;\n",
              "  color: #000000;\n",
              "}\n",
              "#T_ab290_row5_col3 {\n",
              "  background-color: #80ca80;\n",
              "  color: #000000;\n",
              "}\n",
              "#T_ab290_row6_col0, #T_ab290_row22_col0 {\n",
              "  background-color: #6e5aa8;\n",
              "  color: #f1f1f1;\n",
              "}\n",
              "#T_ab290_row6_col1 {\n",
              "  background-color: #fc8464;\n",
              "  color: #f1f1f1;\n",
              "}\n",
              "#T_ab290_row6_col2 {\n",
              "  background-color: #dadada;\n",
              "  color: #000000;\n",
              "}\n",
              "#T_ab290_row6_col3 {\n",
              "  background-color: #cfecc9;\n",
              "  color: #000000;\n",
              "}\n",
              "#T_ab290_row7_col0 {\n",
              "  background-color: #817ebb;\n",
              "  color: #f1f1f1;\n",
              "}\n",
              "#T_ab290_row7_col3 {\n",
              "  background-color: #63bc6e;\n",
              "  color: #f1f1f1;\n",
              "}\n",
              "#T_ab290_row8_col0 {\n",
              "  background-color: #9c98c7;\n",
              "  color: #f1f1f1;\n",
              "}\n",
              "#T_ab290_row8_col1 {\n",
              "  background-color: #ffebe2;\n",
              "  color: #000000;\n",
              "}\n",
              "#T_ab290_row8_col2 {\n",
              "  background-color: #c9c9c9;\n",
              "  color: #000000;\n",
              "}\n",
              "#T_ab290_row8_col3 {\n",
              "  background-color: #42ab5d;\n",
              "  color: #f1f1f1;\n",
              "}\n",
              "#T_ab290_row9_col0 {\n",
              "  background-color: #aaa8d0;\n",
              "  color: #000000;\n",
              "}\n",
              "#T_ab290_row9_col1 {\n",
              "  background-color: #fca183;\n",
              "  color: #000000;\n",
              "}\n",
              "#T_ab290_row9_col2 {\n",
              "  background-color: #adadad;\n",
              "  color: #000000;\n",
              "}\n",
              "#T_ab290_row9_col3 {\n",
              "  background-color: #b1e0ab;\n",
              "  color: #000000;\n",
              "}\n",
              "#T_ab290_row10_col0 {\n",
              "  background-color: #8784bd;\n",
              "  color: #f1f1f1;\n",
              "}\n",
              "#T_ab290_row10_col1 {\n",
              "  background-color: #f03d2d;\n",
              "  color: #f1f1f1;\n",
              "}\n",
              "#T_ab290_row10_col2 {\n",
              "  background-color: #ffffff;\n",
              "  color: #000000;\n",
              "}\n",
              "#T_ab290_row10_col3 {\n",
              "  background-color: #c4e8bd;\n",
              "  color: #000000;\n",
              "}\n",
              "#T_ab290_row11_col0 {\n",
              "  background-color: #6b53a4;\n",
              "  color: #f1f1f1;\n",
              "}\n",
              "#T_ab290_row11_col1 {\n",
              "  background-color: #fcad90;\n",
              "  color: #000000;\n",
              "}\n",
              "#T_ab290_row11_col2 {\n",
              "  background-color: #797979;\n",
              "  color: #f1f1f1;\n",
              "}\n",
              "#T_ab290_row11_col3 {\n",
              "  background-color: #f7fcf5;\n",
              "  color: #000000;\n",
              "}\n",
              "#T_ab290_row12_col0 {\n",
              "  background-color: #4d1b89;\n",
              "  color: #f1f1f1;\n",
              "}\n",
              "#T_ab290_row12_col1 {\n",
              "  background-color: #fcb095;\n",
              "  color: #000000;\n",
              "}\n",
              "#T_ab290_row12_col2 {\n",
              "  background-color: #f8f8f8;\n",
              "  color: #000000;\n",
              "}\n",
              "#T_ab290_row12_col3 {\n",
              "  background-color: #b6e2af;\n",
              "  color: #000000;\n",
              "}\n",
              "#T_ab290_row13_col0 {\n",
              "  background-color: #908dc2;\n",
              "  color: #f1f1f1;\n",
              "}\n",
              "#T_ab290_row13_col1, #T_ab290_row14_col1 {\n",
              "  background-color: #fdc9b3;\n",
              "  color: #000000;\n",
              "}\n",
              "#T_ab290_row13_col2, #T_ab290_row17_col2 {\n",
              "  background-color: #707070;\n",
              "  color: #f1f1f1;\n",
              "}\n",
              "#T_ab290_row13_col3 {\n",
              "  background-color: #e0f3db;\n",
              "  color: #000000;\n",
              "}\n",
              "#T_ab290_row14_col0 {\n",
              "  background-color: #5c3797;\n",
              "  color: #f1f1f1;\n",
              "}\n",
              "#T_ab290_row14_col2 {\n",
              "  background-color: #e3e3e3;\n",
              "  color: #000000;\n",
              "}\n",
              "#T_ab290_row14_col3 {\n",
              "  background-color: #a8dca2;\n",
              "  color: #000000;\n",
              "}\n",
              "#T_ab290_row15_col0 {\n",
              "  background-color: #dedded;\n",
              "  color: #000000;\n",
              "}\n",
              "#T_ab290_row15_col1 {\n",
              "  background-color: #fdd7c6;\n",
              "  color: #000000;\n",
              "}\n",
              "#T_ab290_row15_col2 {\n",
              "  background-color: #8d8d8d;\n",
              "  color: #f1f1f1;\n",
              "}\n",
              "#T_ab290_row15_col3 {\n",
              "  background-color: #6dc072;\n",
              "  color: #000000;\n",
              "}\n",
              "#T_ab290_row16_col0 {\n",
              "  background-color: #cecee5;\n",
              "  color: #000000;\n",
              "}\n",
              "#T_ab290_row16_col1, #T_ab290_row26_col1 {\n",
              "  background-color: #fc8262;\n",
              "  color: #f1f1f1;\n",
              "}\n",
              "#T_ab290_row16_col2 {\n",
              "  background-color: #e1e1e1;\n",
              "  color: #000000;\n",
              "}\n",
              "#T_ab290_row16_col3 {\n",
              "  background-color: #7dc87e;\n",
              "  color: #000000;\n",
              "}\n",
              "#T_ab290_row17_col0 {\n",
              "  background-color: #c9c9e2;\n",
              "  color: #000000;\n",
              "}\n",
              "#T_ab290_row17_col1 {\n",
              "  background-color: #fcbea5;\n",
              "  color: #000000;\n",
              "}\n",
              "#T_ab290_row17_col3, #T_ab290_row26_col3 {\n",
              "  background-color: #a9dca3;\n",
              "  color: #000000;\n",
              "}\n",
              "#T_ab290_row18_col0, #T_ab290_row21_col0 {\n",
              "  background-color: #f5f3f8;\n",
              "  color: #000000;\n",
              "}\n",
              "#T_ab290_row18_col1 {\n",
              "  background-color: #67000d;\n",
              "  color: #f1f1f1;\n",
              "}\n",
              "#T_ab290_row18_col2 {\n",
              "  background-color: #f4f4f4;\n",
              "  color: #000000;\n",
              "}\n",
              "#T_ab290_row18_col3 {\n",
              "  background-color: #daf0d4;\n",
              "  color: #000000;\n",
              "}\n",
              "#T_ab290_row19_col0 {\n",
              "  background-color: #e8e7f2;\n",
              "  color: #000000;\n",
              "}\n",
              "#T_ab290_row19_col1 {\n",
              "  background-color: #fca082;\n",
              "  color: #000000;\n",
              "}\n",
              "#T_ab290_row19_col2 {\n",
              "  background-color: #6b6b6b;\n",
              "  color: #f1f1f1;\n",
              "}\n",
              "#T_ab290_row19_col3 {\n",
              "  background-color: #acdea6;\n",
              "  color: #000000;\n",
              "}\n",
              "#T_ab290_row20_col0 {\n",
              "  background-color: #e7e6f1;\n",
              "  color: #000000;\n",
              "}\n",
              "#T_ab290_row20_col1 {\n",
              "  background-color: #b11218;\n",
              "  color: #f1f1f1;\n",
              "}\n",
              "#T_ab290_row20_col2 {\n",
              "  background-color: #ececec;\n",
              "  color: #000000;\n",
              "}\n",
              "#T_ab290_row20_col3 {\n",
              "  background-color: #d4eece;\n",
              "  color: #000000;\n",
              "}\n",
              "#T_ab290_row21_col1 {\n",
              "  background-color: #fed8c7;\n",
              "  color: #000000;\n",
              "}\n",
              "#T_ab290_row21_col2 {\n",
              "  background-color: #656565;\n",
              "  color: #f1f1f1;\n",
              "}\n",
              "#T_ab290_row21_col3 {\n",
              "  background-color: #72c375;\n",
              "  color: #000000;\n",
              "}\n",
              "#T_ab290_row22_col1 {\n",
              "  background-color: #fcc1a8;\n",
              "  color: #000000;\n",
              "}\n",
              "#T_ab290_row22_col2 {\n",
              "  background-color: #e7e7e7;\n",
              "  color: #000000;\n",
              "}\n",
              "#T_ab290_row22_col3 {\n",
              "  background-color: #8ace88;\n",
              "  color: #000000;\n",
              "}\n",
              "#T_ab290_row23_col0 {\n",
              "  background-color: #b2b2d5;\n",
              "  color: #000000;\n",
              "}\n",
              "#T_ab290_row23_col1 {\n",
              "  background-color: #fee3d7;\n",
              "  color: #000000;\n",
              "}\n",
              "#T_ab290_row23_col2 {\n",
              "  background-color: #bfbfbf;\n",
              "  color: #000000;\n",
              "}\n",
              "#T_ab290_row23_col3 {\n",
              "  background-color: #4aaf61;\n",
              "  color: #f1f1f1;\n",
              "}\n",
              "#T_ab290_row24_col0 {\n",
              "  background-color: #41047f;\n",
              "  color: #f1f1f1;\n",
              "}\n",
              "#T_ab290_row24_col1 {\n",
              "  background-color: #fcb296;\n",
              "  color: #000000;\n",
              "}\n",
              "#T_ab290_row24_col2 {\n",
              "  background-color: #ededed;\n",
              "  color: #000000;\n",
              "}\n",
              "#T_ab290_row24_col3 {\n",
              "  background-color: #d7efd1;\n",
              "  color: #000000;\n",
              "}\n",
              "#T_ab290_row25_col0 {\n",
              "  background-color: #e1e0ee;\n",
              "  color: #000000;\n",
              "}\n",
              "#T_ab290_row25_col1 {\n",
              "  background-color: #fff5f0;\n",
              "  color: #000000;\n",
              "}\n",
              "#T_ab290_row25_col2 {\n",
              "  background-color: #717171;\n",
              "  color: #f1f1f1;\n",
              "}\n",
              "#T_ab290_row25_col3 {\n",
              "  background-color: #4db163;\n",
              "  color: #f1f1f1;\n",
              "}\n",
              "#T_ab290_row26_col0 {\n",
              "  background-color: #fcfbfd;\n",
              "  color: #000000;\n",
              "}\n",
              "#T_ab290_row26_col2 {\n",
              "  background-color: #757575;\n",
              "  color: #f1f1f1;\n",
              "}\n",
              "#T_ab290_row27_col0 {\n",
              "  background-color: #f4f2f8;\n",
              "  color: #000000;\n",
              "}\n",
              "#T_ab290_row27_col1 {\n",
              "  background-color: #f34c37;\n",
              "  color: #f1f1f1;\n",
              "}\n",
              "#T_ab290_row27_col2 {\n",
              "  background-color: #9a9a9a;\n",
              "  color: #f1f1f1;\n",
              "}\n",
              "#T_ab290_row27_col3, #T_ab290_row28_col3 {\n",
              "  background-color: #bee5b8;\n",
              "  color: #000000;\n",
              "}\n",
              "#T_ab290_row28_col0 {\n",
              "  background-color: #e6e5f1;\n",
              "  color: #000000;\n",
              "}\n",
              "#T_ab290_row28_col1 {\n",
              "  background-color: #f5523a;\n",
              "  color: #f1f1f1;\n",
              "}\n",
              "#T_ab290_row28_col2 {\n",
              "  background-color: #b2b2b2;\n",
              "  color: #000000;\n",
              "}\n",
              "#T_ab290_row29_col0 {\n",
              "  background-color: #e0e0ee;\n",
              "  color: #000000;\n",
              "}\n",
              "#T_ab290_row29_col1 {\n",
              "  background-color: #fff1ea;\n",
              "  color: #000000;\n",
              "}\n",
              "#T_ab290_row29_col2 {\n",
              "  background-color: #2c2c2c;\n",
              "  color: #f1f1f1;\n",
              "}\n",
              "#T_ab290_row29_col3 {\n",
              "  background-color: #88ce87;\n",
              "  color: #000000;\n",
              "}\n",
              "#T_ab290_row30_col0 {\n",
              "  background-color: #5f3c99;\n",
              "  color: #f1f1f1;\n",
              "}\n",
              "#T_ab290_row30_col2 {\n",
              "  background-color: #d4d4d4;\n",
              "  color: #000000;\n",
              "}\n",
              "#T_ab290_row30_col3 {\n",
              "  background-color: #79c67a;\n",
              "  color: #000000;\n",
              "}\n",
              "#T_ab290_row31_col1 {\n",
              "  background-color: #fc8f6f;\n",
              "  color: #000000;\n",
              "}\n",
              "#T_ab290_row31_col2 {\n",
              "  background-color: #3f3f3f;\n",
              "  color: #f1f1f1;\n",
              "}\n",
              "#T_ab290_row31_col3 {\n",
              "  background-color: #ecf8e8;\n",
              "  color: #000000;\n",
              "}\n",
              "</style>\n",
              "<table id=\"T_ab290\" class=\"dataframe\">\n",
              "  <thead>\n",
              "    <tr>\n",
              "      <th class=\"index_name level0\" >Sentiment</th>\n",
              "      <th id=\"T_ab290_level0_col0\" class=\"col_heading level0 col0\" >Irrelevant</th>\n",
              "      <th id=\"T_ab290_level0_col1\" class=\"col_heading level0 col1\" >Negative</th>\n",
              "      <th id=\"T_ab290_level0_col2\" class=\"col_heading level0 col2\" >Neutral</th>\n",
              "      <th id=\"T_ab290_level0_col3\" class=\"col_heading level0 col3\" >Positive</th>\n",
              "    </tr>\n",
              "    <tr>\n",
              "      <th class=\"index_name level0\" >Entity</th>\n",
              "      <th class=\"blank col0\" >&nbsp;</th>\n",
              "      <th class=\"blank col1\" >&nbsp;</th>\n",
              "      <th class=\"blank col2\" >&nbsp;</th>\n",
              "      <th class=\"blank col3\" >&nbsp;</th>\n",
              "    </tr>\n",
              "  </thead>\n",
              "  <tbody>\n",
              "    <tr>\n",
              "      <th id=\"T_ab290_level0_row0\" class=\"row_heading level0 row0\" >Amazon</th>\n",
              "      <td id=\"T_ab290_row0_col0\" class=\"data row0 col0\" >192</td>\n",
              "      <td id=\"T_ab290_row0_col1\" class=\"data row0 col1\" >576</td>\n",
              "      <td id=\"T_ab290_row0_col2\" class=\"data row0 col2\" >1236</td>\n",
              "      <td id=\"T_ab290_row0_col3\" class=\"data row0 col3\" >312</td>\n",
              "    </tr>\n",
              "    <tr>\n",
              "      <th id=\"T_ab290_level0_row1\" class=\"row_heading level0 row1\" >ApexLegends</th>\n",
              "      <td id=\"T_ab290_row1_col0\" class=\"data row1 col0\" >192</td>\n",
              "      <td id=\"T_ab290_row1_col1\" class=\"data row1 col1\" >600</td>\n",
              "      <td id=\"T_ab290_row1_col2\" class=\"data row1 col2\" >942</td>\n",
              "      <td id=\"T_ab290_row1_col3\" class=\"data row1 col3\" >642</td>\n",
              "    </tr>\n",
              "    <tr>\n",
              "      <th id=\"T_ab290_level0_row2\" class=\"row_heading level0 row2\" >AssassinsCreed</th>\n",
              "      <td id=\"T_ab290_row2_col0\" class=\"data row2 col0\" >264</td>\n",
              "      <td id=\"T_ab290_row2_col1\" class=\"data row2 col1\" >378</td>\n",
              "      <td id=\"T_ab290_row2_col2\" class=\"data row2 col2\" >156</td>\n",
              "      <td id=\"T_ab290_row2_col3\" class=\"data row2 col3\" >1446</td>\n",
              "    </tr>\n",
              "    <tr>\n",
              "      <th id=\"T_ab290_level0_row3\" class=\"row_heading level0 row3\" >Battlefield</th>\n",
              "      <td id=\"T_ab290_row3_col0\" class=\"data row3 col0\" >918</td>\n",
              "      <td id=\"T_ab290_row3_col1\" class=\"data row3 col1\" >474</td>\n",
              "      <td id=\"T_ab290_row3_col2\" class=\"data row3 col2\" >360</td>\n",
              "      <td id=\"T_ab290_row3_col3\" class=\"data row3 col3\" >594</td>\n",
              "    </tr>\n",
              "    <tr>\n",
              "      <th id=\"T_ab290_level0_row4\" class=\"row_heading level0 row4\" >Borderlands</th>\n",
              "      <td id=\"T_ab290_row4_col0\" class=\"data row4 col0\" >240</td>\n",
              "      <td id=\"T_ab290_row4_col1\" class=\"data row4 col1\" >426</td>\n",
              "      <td id=\"T_ab290_row4_col2\" class=\"data row4 col2\" >600</td>\n",
              "      <td id=\"T_ab290_row4_col3\" class=\"data row4 col3\" >1020</td>\n",
              "    </tr>\n",
              "    <tr>\n",
              "      <th id=\"T_ab290_level0_row5\" class=\"row_heading level0 row5\" >CS-GO</th>\n",
              "      <td id=\"T_ab290_row5_col0\" class=\"data row5 col0\" >636</td>\n",
              "      <td id=\"T_ab290_row5_col1\" class=\"data row5 col1\" >348</td>\n",
              "      <td id=\"T_ab290_row5_col2\" class=\"data row5 col2\" >552</td>\n",
              "      <td id=\"T_ab290_row5_col3\" class=\"data row5 col3\" >768</td>\n",
              "    </tr>\n",
              "    <tr>\n",
              "      <th id=\"T_ab290_level0_row6\" class=\"row_heading level0 row6\" >CallOfDuty</th>\n",
              "      <td id=\"T_ab290_row6_col0\" class=\"data row6 col0\" >672</td>\n",
              "      <td id=\"T_ab290_row6_col1\" class=\"data row6 col1\" >894</td>\n",
              "      <td id=\"T_ab290_row6_col2\" class=\"data row6 col2\" >378</td>\n",
              "      <td id=\"T_ab290_row6_col3\" class=\"data row6 col3\" >450</td>\n",
              "    </tr>\n",
              "    <tr>\n",
              "      <th id=\"T_ab290_level0_row7\" class=\"row_heading level0 row7\" >CallOfDutyBlackopsColdWar</th>\n",
              "      <td id=\"T_ab290_row7_col0\" class=\"data row7 col0\" >576</td>\n",
              "      <td id=\"T_ab290_row7_col1\" class=\"data row7 col1\" >576</td>\n",
              "      <td id=\"T_ab290_row7_col2\" class=\"data row7 col2\" >360</td>\n",
              "      <td id=\"T_ab290_row7_col3\" class=\"data row7 col3\" >864</td>\n",
              "    </tr>\n",
              "    <tr>\n",
              "      <th id=\"T_ab290_level0_row8\" class=\"row_heading level0 row8\" >Cyberpunk2077</th>\n",
              "      <td id=\"T_ab290_row8_col0\" class=\"data row8 col0\" >480</td>\n",
              "      <td id=\"T_ab290_row8_col1\" class=\"data row8 col1\" >390</td>\n",
              "      <td id=\"T_ab290_row8_col2\" class=\"data row8 col2\" >468</td>\n",
              "      <td id=\"T_ab290_row8_col3\" class=\"data row8 col3\" >966</td>\n",
              "    </tr>\n",
              "    <tr>\n",
              "      <th id=\"T_ab290_level0_row9\" class=\"row_heading level0 row9\" >Dota2</th>\n",
              "      <td id=\"T_ab290_row9_col0\" class=\"data row9 col0\" >426</td>\n",
              "      <td id=\"T_ab290_row9_col1\" class=\"data row9 col1\" >768</td>\n",
              "      <td id=\"T_ab290_row9_col2\" class=\"data row9 col2\" >588</td>\n",
              "      <td id=\"T_ab290_row9_col3\" class=\"data row9 col3\" >582</td>\n",
              "    </tr>\n",
              "    <tr>\n",
              "      <th id=\"T_ab290_level0_row10\" class=\"row_heading level0 row10\" >FIFA</th>\n",
              "      <td id=\"T_ab290_row10_col0\" class=\"data row10 col0\" >558</td>\n",
              "      <td id=\"T_ab290_row10_col1\" class=\"data row10 col1\" >1176</td>\n",
              "      <td id=\"T_ab290_row10_col2\" class=\"data row10 col2\" >102</td>\n",
              "      <td id=\"T_ab290_row10_col3\" class=\"data row10 col3\" >504</td>\n",
              "    </tr>\n",
              "    <tr>\n",
              "      <th id=\"T_ab290_level0_row11\" class=\"row_heading level0 row11\" >Facebook</th>\n",
              "      <td id=\"T_ab290_row11_col0\" class=\"data row11 col0\" >690</td>\n",
              "      <td id=\"T_ab290_row11_col1\" class=\"data row11 col1\" >720</td>\n",
              "      <td id=\"T_ab290_row11_col2\" class=\"data row11 col2\" >786</td>\n",
              "      <td id=\"T_ab290_row11_col3\" class=\"data row11 col3\" >174</td>\n",
              "    </tr>\n",
              "    <tr>\n",
              "      <th id=\"T_ab290_level0_row12\" class=\"row_heading level0 row12\" >Fortnite</th>\n",
              "      <td id=\"T_ab290_row12_col0\" class=\"data row12 col0\" >840</td>\n",
              "      <td id=\"T_ab290_row12_col1\" class=\"data row12 col1\" >702</td>\n",
              "      <td id=\"T_ab290_row12_col2\" class=\"data row12 col2\" >168</td>\n",
              "      <td id=\"T_ab290_row12_col3\" class=\"data row12 col3\" >564</td>\n",
              "    </tr>\n",
              "    <tr>\n",
              "      <th id=\"T_ab290_level0_row13\" class=\"row_heading level0 row13\" >Google</th>\n",
              "      <td id=\"T_ab290_row13_col0\" class=\"data row13 col0\" >522</td>\n",
              "      <td id=\"T_ab290_row13_col1\" class=\"data row13 col1\" >594</td>\n",
              "      <td id=\"T_ab290_row13_col2\" class=\"data row13 col2\" >822</td>\n",
              "      <td id=\"T_ab290_row13_col3\" class=\"data row13 col3\" >360</td>\n",
              "    </tr>\n",
              "    <tr>\n",
              "      <th id=\"T_ab290_level0_row14\" class=\"row_heading level0 row14\" >GrandTheftAuto(GTA)</th>\n",
              "      <td id=\"T_ab290_row14_col0\" class=\"data row14 col0\" >762</td>\n",
              "      <td id=\"T_ab290_row14_col1\" class=\"data row14 col1\" >594</td>\n",
              "      <td id=\"T_ab290_row14_col2\" class=\"data row14 col2\" >324</td>\n",
              "      <td id=\"T_ab290_row14_col3\" class=\"data row14 col3\" >624</td>\n",
              "    </tr>\n",
              "    <tr>\n",
              "      <th id=\"T_ab290_level0_row15\" class=\"row_heading level0 row15\" >Hearthstone</th>\n",
              "      <td id=\"T_ab290_row15_col0\" class=\"data row15 col0\" >228</td>\n",
              "      <td id=\"T_ab290_row15_col1\" class=\"data row15 col1\" >528</td>\n",
              "      <td id=\"T_ab290_row15_col2\" class=\"data row15 col2\" >708</td>\n",
              "      <td id=\"T_ab290_row15_col3\" class=\"data row15 col3\" >834</td>\n",
              "    </tr>\n",
              "    <tr>\n",
              "      <th id=\"T_ab290_level0_row16\" class=\"row_heading level0 row16\" >HomeDepot</th>\n",
              "      <td id=\"T_ab290_row16_col0\" class=\"data row16 col0\" >294</td>\n",
              "      <td id=\"T_ab290_row16_col1\" class=\"data row16 col1\" >900</td>\n",
              "      <td id=\"T_ab290_row16_col2\" class=\"data row16 col2\" >336</td>\n",
              "      <td id=\"T_ab290_row16_col3\" class=\"data row16 col3\" >780</td>\n",
              "    </tr>\n",
              "    <tr>\n",
              "      <th id=\"T_ab290_level0_row17\" class=\"row_heading level0 row17\" >LeagueOfLegends</th>\n",
              "      <td id=\"T_ab290_row17_col0\" class=\"data row17 col0\" >312</td>\n",
              "      <td id=\"T_ab290_row17_col1\" class=\"data row17 col1\" >642</td>\n",
              "      <td id=\"T_ab290_row17_col2\" class=\"data row17 col2\" >822</td>\n",
              "      <td id=\"T_ab290_row17_col3\" class=\"data row17 col3\" >618</td>\n",
              "    </tr>\n",
              "    <tr>\n",
              "      <th id=\"T_ab290_level0_row18\" class=\"row_heading level0 row18\" >MaddenNFL</th>\n",
              "      <td id=\"T_ab290_row18_col0\" class=\"data row18 col0\" >90</td>\n",
              "      <td id=\"T_ab290_row18_col1\" class=\"data row18 col1\" >1710</td>\n",
              "      <td id=\"T_ab290_row18_col2\" class=\"data row18 col2\" >204</td>\n",
              "      <td id=\"T_ab290_row18_col3\" class=\"data row18 col3\" >396</td>\n",
              "    </tr>\n",
              "    <tr>\n",
              "      <th id=\"T_ab290_level0_row19\" class=\"row_heading level0 row19\" >Microsoft</th>\n",
              "      <td id=\"T_ab290_row19_col0\" class=\"data row19 col0\" >174</td>\n",
              "      <td id=\"T_ab290_row19_col1\" class=\"data row19 col1\" >774</td>\n",
              "      <td id=\"T_ab290_row19_col2\" class=\"data row19 col2\" >846</td>\n",
              "      <td id=\"T_ab290_row19_col3\" class=\"data row19 col3\" >606</td>\n",
              "    </tr>\n",
              "    <tr>\n",
              "      <th id=\"T_ab290_level0_row20\" class=\"row_heading level0 row20\" >NBA2K</th>\n",
              "      <td id=\"T_ab290_row20_col0\" class=\"data row20 col0\" >180</td>\n",
              "      <td id=\"T_ab290_row20_col1\" class=\"data row20 col1\" >1476</td>\n",
              "      <td id=\"T_ab290_row20_col2\" class=\"data row20 col2\" >270</td>\n",
              "      <td id=\"T_ab290_row20_col3\" class=\"data row20 col3\" >426</td>\n",
              "    </tr>\n",
              "    <tr>\n",
              "      <th id=\"T_ab290_level0_row21\" class=\"row_heading level0 row21\" >Nvidia</th>\n",
              "      <td id=\"T_ab290_row21_col0\" class=\"data row21 col0\" >90</td>\n",
              "      <td id=\"T_ab290_row21_col1\" class=\"data row21 col1\" >522</td>\n",
              "      <td id=\"T_ab290_row21_col2\" class=\"data row21 col2\" >870</td>\n",
              "      <td id=\"T_ab290_row21_col3\" class=\"data row21 col3\" >816</td>\n",
              "    </tr>\n",
              "    <tr>\n",
              "      <th id=\"T_ab290_level0_row22\" class=\"row_heading level0 row22\" >Overwatch</th>\n",
              "      <td id=\"T_ab290_row22_col0\" class=\"data row22 col0\" >672</td>\n",
              "      <td id=\"T_ab290_row22_col1\" class=\"data row22 col1\" >630</td>\n",
              "      <td id=\"T_ab290_row22_col2\" class=\"data row22 col2\" >300</td>\n",
              "      <td id=\"T_ab290_row22_col3\" class=\"data row22 col3\" >732</td>\n",
              "    </tr>\n",
              "    <tr>\n",
              "      <th id=\"T_ab290_level0_row23\" class=\"row_heading level0 row23\" >PlayStation5(PS5)</th>\n",
              "      <td id=\"T_ab290_row23_col0\" class=\"data row23 col0\" >396</td>\n",
              "      <td id=\"T_ab290_row23_col1\" class=\"data row23 col1\" >456</td>\n",
              "      <td id=\"T_ab290_row23_col2\" class=\"data row23 col2\" >516</td>\n",
              "      <td id=\"T_ab290_row23_col3\" class=\"data row23 col3\" >942</td>\n",
              "    </tr>\n",
              "    <tr>\n",
              "      <th id=\"T_ab290_level0_row24\" class=\"row_heading level0 row24\" >PlayerUnknownsBattlegrounds(PUBG)</th>\n",
              "      <td id=\"T_ab290_row24_col0\" class=\"data row24 col0\" >906</td>\n",
              "      <td id=\"T_ab290_row24_col1\" class=\"data row24 col1\" >696</td>\n",
              "      <td id=\"T_ab290_row24_col2\" class=\"data row24 col2\" >264</td>\n",
              "      <td id=\"T_ab290_row24_col3\" class=\"data row24 col3\" >408</td>\n",
              "    </tr>\n",
              "    <tr>\n",
              "      <th id=\"T_ab290_level0_row25\" class=\"row_heading level0 row25\" >RedDeadRedemption(RDR)</th>\n",
              "      <td id=\"T_ab290_row25_col0\" class=\"data row25 col0\" >210</td>\n",
              "      <td id=\"T_ab290_row25_col1\" class=\"data row25 col1\" >306</td>\n",
              "      <td id=\"T_ab290_row25_col2\" class=\"data row25 col2\" >816</td>\n",
              "      <td id=\"T_ab290_row25_col3\" class=\"data row25 col3\" >930</td>\n",
              "    </tr>\n",
              "    <tr>\n",
              "      <th id=\"T_ab290_level0_row26\" class=\"row_heading level0 row26\" >TomClancysGhostRecon</th>\n",
              "      <td id=\"T_ab290_row26_col0\" class=\"data row26 col0\" >24</td>\n",
              "      <td id=\"T_ab290_row26_col1\" class=\"data row26 col1\" >900</td>\n",
              "      <td id=\"T_ab290_row26_col2\" class=\"data row26 col2\" >804</td>\n",
              "      <td id=\"T_ab290_row26_col3\" class=\"data row26 col3\" >618</td>\n",
              "    </tr>\n",
              "    <tr>\n",
              "      <th id=\"T_ab290_level0_row27\" class=\"row_heading level0 row27\" >TomClancysRainbowSix</th>\n",
              "      <td id=\"T_ab290_row27_col0\" class=\"data row27 col0\" >96</td>\n",
              "      <td id=\"T_ab290_row27_col1\" class=\"data row27 col1\" >1122</td>\n",
              "      <td id=\"T_ab290_row27_col2\" class=\"data row27 col2\" >654</td>\n",
              "      <td id=\"T_ab290_row27_col3\" class=\"data row27 col3\" >528</td>\n",
              "    </tr>\n",
              "    <tr>\n",
              "      <th id=\"T_ab290_level0_row28\" class=\"row_heading level0 row28\" >Verizon</th>\n",
              "      <td id=\"T_ab290_row28_col0\" class=\"data row28 col0\" >186</td>\n",
              "      <td id=\"T_ab290_row28_col1\" class=\"data row28 col1\" >1098</td>\n",
              "      <td id=\"T_ab290_row28_col2\" class=\"data row28 col2\" >570</td>\n",
              "      <td id=\"T_ab290_row28_col3\" class=\"data row28 col3\" >528</td>\n",
              "    </tr>\n",
              "    <tr>\n",
              "      <th id=\"T_ab290_level0_row29\" class=\"row_heading level0 row29\" >WorldOfCraft</th>\n",
              "      <td id=\"T_ab290_row29_col0\" class=\"data row29 col0\" >216</td>\n",
              "      <td id=\"T_ab290_row29_col1\" class=\"data row29 col1\" >342</td>\n",
              "      <td id=\"T_ab290_row29_col2\" class=\"data row29 col2\" >1068</td>\n",
              "      <td id=\"T_ab290_row29_col3\" class=\"data row29 col3\" >738</td>\n",
              "    </tr>\n",
              "    <tr>\n",
              "      <th id=\"T_ab290_level0_row30\" class=\"row_heading level0 row30\" >Xbox(Xseries)</th>\n",
              "      <td id=\"T_ab290_row30_col0\" class=\"data row30 col0\" >750</td>\n",
              "      <td id=\"T_ab290_row30_col1\" class=\"data row30 col1\" >378</td>\n",
              "      <td id=\"T_ab290_row30_col2\" class=\"data row30 col2\" >414</td>\n",
              "      <td id=\"T_ab290_row30_col3\" class=\"data row30 col3\" >792</td>\n",
              "    </tr>\n",
              "    <tr>\n",
              "      <th id=\"T_ab290_level0_row31\" class=\"row_heading level0 row31\" >johnson&johnson</th>\n",
              "      <td id=\"T_ab290_row31_col0\" class=\"data row31 col0\" >198</td>\n",
              "      <td id=\"T_ab290_row31_col1\" class=\"data row31 col1\" >846</td>\n",
              "      <td id=\"T_ab290_row31_col2\" class=\"data row31 col2\" >1014</td>\n",
              "      <td id=\"T_ab290_row31_col3\" class=\"data row31 col3\" >270</td>\n",
              "    </tr>\n",
              "  </tbody>\n",
              "</table>\n"
            ]
          },
          "metadata": {},
          "execution_count": 14
        }
      ]
    },
    {
      "cell_type": "markdown",
      "source": [
        "# Data cleaning"
      ],
      "metadata": {
        "id": "Yyepf_VxqsWW"
      }
    },
    {
      "cell_type": "code",
      "source": [
        "# Valeurs manquantes\n",
        "train.isna().sum()"
      ],
      "metadata": {
        "colab": {
          "base_uri": "https://localhost:8080/"
        },
        "id": "sVeevZiAKQ8h",
        "outputId": "eb3bafc8-730d-480b-aed4-46fe5c240eb4"
      },
      "execution_count": 15,
      "outputs": [
        {
          "output_type": "execute_result",
          "data": {
            "text/plain": [
              "Tweet_ID           0\n",
              "Entity             0\n",
              "Sentiment          0\n",
              "Tweet_content    686\n",
              "dtype: int64"
            ]
          },
          "metadata": {},
          "execution_count": 15
        }
      ]
    },
    {
      "cell_type": "code",
      "source": [
        "# Valeurs dupliquées\n",
        "train.duplicated().sum()"
      ],
      "metadata": {
        "colab": {
          "base_uri": "https://localhost:8080/"
        },
        "id": "YKHoEx_7KnkC",
        "outputId": "2cff1ed3-4a72-4429-c193-a3c84f923c99"
      },
      "execution_count": 16,
      "outputs": [
        {
          "output_type": "execute_result",
          "data": {
            "text/plain": [
              "2700"
            ]
          },
          "metadata": {},
          "execution_count": 16
        }
      ]
    },
    {
      "cell_type": "code",
      "source": [
        "# Suppression des lignes en doubles et des lignes avec valeurs manquantes\n",
        "train.dropna(inplace=True)\n",
        "train.drop_duplicates(inplace=True)"
      ],
      "metadata": {
        "id": "bf9obPARLjmA"
      },
      "execution_count": 17,
      "outputs": []
    },
    {
      "cell_type": "code",
      "source": [
        "import re\n",
        "\n",
        "# on met tout en minuscule, on vire les emojis et les urls\n",
        "def supr_emojis(texte):\n",
        "    # Expression régulière pour détecter les emojis Unicode\n",
        "    emoji_pattern = re.compile(\"[\"\n",
        "                               u\"\\U0001F600-\\U0001F64F\"  # Emojis visages\n",
        "                               u\"\\U0001F300-\\U0001F5FF\"  # Autres emojis symboles et pictogrammes\n",
        "                               u\"\\U0001F680-\\U0001F6FF\"  # Emojis transports et symboles\n",
        "                               u\"\\U0001F700-\\U0001F77F\"  # Emojis alchimiques\n",
        "                               u\"\\U0001F780-\\U0001F7FF\"  # Emojis jeux de cartes\n",
        "                               u\"\\U0001F800-\\U0001F8FF\"  # Emojis symboles géométriques\n",
        "                               u\"\\U0001F900-\\U0001F9FF\"  # Emojis symboles supplémentaires\n",
        "                               u\"\\U0001FA00-\\U0001FA6F\"  # Emojis personnages\n",
        "                               u\"\\U0001FA70-\\U0001FAFF\"  # Emojis personnages\n",
        "                               u\"\\U00002702-\\U000027B0\"  # Emojis autres symboles\n",
        "                               u\"\\U000024C2-\\U0001F251\"\n",
        "                               \"]+\", flags=re.UNICODE)\n",
        "    texte_sans_emojis = emoji_pattern.sub(r'', texte)\n",
        "    return texte_sans_emojis\n",
        "\n",
        "def supr_urls(texte):\n",
        "    # Expression régulière pour détecter les URLs\n",
        "    url_pattern = re.compile(r'https?://\\S+|www\\.\\S+')\n",
        "    texte_sans_urls = url_pattern.sub('', texte)\n",
        "    return texte_sans_urls\n",
        "\n",
        "def texte_en_minuscule(texte):\n",
        "    texte_minuscule = texte.lower()\n",
        "    return texte_minuscule"
      ],
      "metadata": {
        "id": "qHH6RqUbLx11"
      },
      "execution_count": 18,
      "outputs": []
    },
    {
      "cell_type": "code",
      "source": [
        "train['Tweet_content'] = train['Tweet_content'].apply(lambda x: supr_emojis(x))\n",
        "train['Tweet_content'] = train['Tweet_content'].apply(lambda x: supr_urls(x))\n",
        "train['Tweet_content'] = train['Tweet_content'].apply(lambda x: texte_en_minuscule(x))"
      ],
      "metadata": {
        "id": "TkaEUQ-yNYxn"
      },
      "execution_count": 19,
      "outputs": []
    },
    {
      "cell_type": "markdown",
      "source": [
        "# Tokenization et Lemmatisation"
      ],
      "metadata": {
        "id": "PgRuiIKMflVz"
      }
    },
    {
      "cell_type": "markdown",
      "source": [
        "La tokenization consiste à diviser un texte en unités discrètes appelées \"tokens\", qui peuvent être des mots, des phrases, des caractères, ou d'autres éléments en fonction du niveau de granularité souhaité.\n",
        "La tokenization est une étape cruciale car elle permet de représenter le texte sous une forme numérique compréhensible par les algorithmes de machine learning.\\\n",
        "La lemmatisation est le processus de réduction des mots à leur forme canonique ou \"lemme\". Le lemme d'un mot est sa forme de base, qui représente le mot dans un dictionnaire. Par exemple, les mots \"mange\", \"manger\" et \"mangé\" peuvent être tous réduits à leur lemme \"manger\". Cette normalisation aide à réduire la complexité des données textuelles et à améliorer la performance des modèles de machine learning en traitant les mots de manière uniforme."
      ],
      "metadata": {
        "id": "Qj34WS4widra"
      }
    },
    {
      "cell_type": "code",
      "source": [
        "import spacy"
      ],
      "metadata": {
        "id": "sf2lUgUTfaEJ"
      },
      "execution_count": 20,
      "outputs": []
    },
    {
      "cell_type": "code",
      "source": [
        "#tokenisation lemmatisation\n",
        "nlp=spacy.load('en_core_web_sm')\n",
        "\n",
        "def preprocess(text):\n",
        "    # Analyser le texte avec le modèle spacy\n",
        "    doc = nlp(text)\n",
        "\n",
        "    # Filtrer les tokens qui ne sont pas des stop words ni de la ponctuation, et les lemmatiser\n",
        "    filtered_tokens = [token.lemma_ for token in doc if not token.is_stop and not token.is_punct]\n",
        "\n",
        "    # Joindre les tokens filtrés en une seule chaîne de caractères\n",
        "    preprocessed_text = \" \".join(filtered_tokens)\n",
        "\n",
        "    return preprocessed_text\n",
        "\n",
        "train['preprocessed_text']=train['Tweet_content'].apply(lambda x: preprocess(x))"
      ],
      "metadata": {
        "id": "w-vTTnrgfM40"
      },
      "execution_count": 21,
      "outputs": []
    },
    {
      "cell_type": "code",
      "source": [
        "k = np.random.randint(200)\n",
        "print(train['preprocessed_text'][k])\n",
        "print(train['Tweet_content'][k])"
      ],
      "metadata": {
        "colab": {
          "base_uri": "https://localhost:8080/"
        },
        "id": "pnaUjDHKi3vy",
        "outputId": "c34a8107-3387-458d-ad23-fd2b37cc0018"
      },
      "execution_count": 22,
      "outputs": [
        {
          "output_type": "stream",
          "name": "stdout",
          "text": [
            "borderland fucking thrash\n",
            "all the borderlands are fucking thrash\n"
          ]
        }
      ]
    },
    {
      "cell_type": "markdown",
      "source": [
        "# Machine Learning"
      ],
      "metadata": {
        "id": "oGOTlojoYaPE"
      }
    },
    {
      "cell_type": "markdown",
      "source": [
        "## Train Test Split"
      ],
      "metadata": {
        "id": "1MCGy5ChhHjS"
      }
    },
    {
      "cell_type": "code",
      "source": [
        "from sklearn.model_selection import train_test_split\n",
        "\n",
        "X_train ,X_test , y_train, y_test = train_test_split(\n",
        "    train[['preprocessed_text']],\n",
        "    train[['Sentiment']],\n",
        "    test_size=0.2,\n",
        "    random_state=42\n",
        ")"
      ],
      "metadata": {
        "id": "r6evyCSHdmtt"
      },
      "execution_count": 23,
      "outputs": []
    },
    {
      "cell_type": "code",
      "source": [
        "from sklearn.feature_extraction.text import TfidfVectorizer\n",
        "\n",
        "vectorizer= TfidfVectorizer()\n",
        "\n",
        "X_train_vect= vectorizer.fit_transform(X_train['preprocessed_text'])\n",
        "X_test_vect= vectorizer.transform(X_test['preprocessed_text'])\n",
        "\n",
        "y_train=y_train['Sentiment'].map({\"Positive\":0,\"Negative\":1,\"Neutral\":2,\"Irrelevant\":3})\n",
        "y_test=y_test['Sentiment'].map({\"Positive\":0,\"Negative\":1,\"Neutral\":2,\"Irrelevant\":3})"
      ],
      "metadata": {
        "id": "t0mTTPY4kr2K"
      },
      "execution_count": 24,
      "outputs": []
    },
    {
      "cell_type": "markdown",
      "source": [
        "## Random Forest Classifier"
      ],
      "metadata": {
        "id": "QayGQiq8fQ2r"
      }
    },
    {
      "cell_type": "code",
      "source": [
        "from sklearn.ensemble import RandomForestClassifier\n",
        "from sklearn.metrics import classification_report"
      ],
      "metadata": {
        "id": "x09ewqxedau8"
      },
      "execution_count": 25,
      "outputs": []
    },
    {
      "cell_type": "code",
      "source": [
        "model = RandomForestClassifier()\n",
        "model.fit(X_train_vect,y_train)\n",
        "\n",
        "y_predict= model.predict(X_test_vect)\n",
        "print(classification_report(y_test,y_predict))"
      ],
      "metadata": {
        "colab": {
          "base_uri": "https://localhost:8080/"
        },
        "id": "mbA5bfo4dGlj",
        "outputId": "0453b430-f698-424b-9c92-e9371b4bf9f5"
      },
      "execution_count": 26,
      "outputs": [
        {
          "output_type": "stream",
          "name": "stdout",
          "text": [
            "              precision    recall  f1-score   support\n",
            "\n",
            "           0       0.84      0.95      0.89      3877\n",
            "           1       0.93      0.93      0.93      4383\n",
            "           2       0.94      0.89      0.91      3543\n",
            "           3       0.97      0.85      0.90      2529\n",
            "\n",
            "    accuracy                           0.91     14332\n",
            "   macro avg       0.92      0.90      0.91     14332\n",
            "weighted avg       0.91      0.91      0.91     14332\n",
            "\n"
          ]
        }
      ]
    },
    {
      "cell_type": "markdown",
      "source": [
        "## Logisitic Regression"
      ],
      "metadata": {
        "id": "xblKVZo4arh_"
      }
    },
    {
      "cell_type": "code",
      "source": [
        "from sklearn.linear_model import LogisticRegression\n",
        "from sklearn.metrics import accuracy_score"
      ],
      "metadata": {
        "id": "eikPtQ7Abjt9"
      },
      "execution_count": 27,
      "outputs": []
    },
    {
      "cell_type": "code",
      "source": [
        "model2 = LogisticRegression(C=1, solver=\"liblinear\",max_iter=200)\n",
        "model2.fit(X_train_vect, y_train)\n",
        "\n",
        "y_predict = model2.predict(X_test_vect)\n",
        "print(classification_report(y_test,y_predict))"
      ],
      "metadata": {
        "id": "tARVXHtFknBs",
        "colab": {
          "base_uri": "https://localhost:8080/"
        },
        "outputId": "36cd6bab-7ace-4dc8-e40a-6ebaa2e4f9d1"
      },
      "execution_count": 28,
      "outputs": [
        {
          "output_type": "stream",
          "name": "stdout",
          "text": [
            "              precision    recall  f1-score   support\n",
            "\n",
            "           0       0.74      0.78      0.76      3877\n",
            "           1       0.74      0.85      0.79      4383\n",
            "           2       0.78      0.71      0.74      3543\n",
            "           3       0.82      0.62      0.70      2529\n",
            "\n",
            "    accuracy                           0.76     14332\n",
            "   macro avg       0.77      0.74      0.75     14332\n",
            "weighted avg       0.76      0.76      0.75     14332\n",
            "\n"
          ]
        }
      ]
    },
    {
      "cell_type": "markdown",
      "source": [
        "## SVM"
      ],
      "metadata": {
        "id": "5IQQhuS9mq4v"
      }
    },
    {
      "cell_type": "code",
      "source": [
        "from sklearn.svm import SVC\n",
        "from sklearn.metrics import classification_report"
      ],
      "metadata": {
        "id": "O2R67UMDmty-"
      },
      "execution_count": 29,
      "outputs": []
    },
    {
      "cell_type": "code",
      "source": [
        "model3 = SVC(C=1, kernel='linear')\n",
        "model2.fit(X_train_vect, y_train)\n",
        "\n",
        "y_predict = model2.predict(X_test_vect)\n",
        "print(classification_report(y_test, y_predict))"
      ],
      "metadata": {
        "colab": {
          "base_uri": "https://localhost:8080/"
        },
        "id": "3dMWEDBMf8fA",
        "outputId": "7d0691e2-9ff6-4187-8144-cf6abd9ed7e3"
      },
      "execution_count": 30,
      "outputs": [
        {
          "output_type": "stream",
          "name": "stdout",
          "text": [
            "              precision    recall  f1-score   support\n",
            "\n",
            "           0       0.74      0.78      0.76      3877\n",
            "           1       0.74      0.85      0.79      4383\n",
            "           2       0.78      0.71      0.74      3543\n",
            "           3       0.82      0.62      0.70      2529\n",
            "\n",
            "    accuracy                           0.76     14332\n",
            "   macro avg       0.77      0.74      0.75     14332\n",
            "weighted avg       0.76      0.76      0.75     14332\n",
            "\n"
          ]
        }
      ]
    },
    {
      "cell_type": "markdown",
      "source": [
        "## Analyse des performances des modèles pour la classification des sentiments des tweets\n",
        "\n",
        "### Random Forest :\n",
        "- Performances exceptionnelles\n",
        "  - Capacité à gérer les caractéristiques non linéaires et les interactions complexes entre les variables\n",
        "  - Composition d'ensembles d'arbres de décision pour capturer efficacement les relations entre les mots et les phrases\n",
        "- Réduction du risque de surapprentissage grâce à l'ensemble de modèles\n",
        "\n",
        "### Régression Logistique :\n",
        "- Performances relativement inférieures\n",
        "  - Limitations dues à sa nature linéaire\n",
        "  - Moins adaptée pour capturer les subtilités et les nuances des données textuelles\n",
        "\n",
        "### SVM (Machine à Vecteurs de Support) :\n",
        "- Performances légèrement inférieures au Random Forest\n",
        "  - Sensibilité aux paramètres du modèle, nécessitant un ajustement précis\n",
        "  - Capacité à gérer des données non linéaires grâce à l'utilisation de fonctions de noyau\n",
        "\n",
        "## Conclusion :\n",
        "Le choix du modèle dépend de l'équilibre entre complexité, capacité de généralisation et performances prédictives. Dans ce cas, le Random Forest se distingue comme le choix optimal, offrant une combinaison de flexibilité et de robustesse pour la classification des sentiments des tweets.\n"
      ],
      "metadata": {
        "id": "vzbRBBpVdkF8"
      }
    }
  ]
}